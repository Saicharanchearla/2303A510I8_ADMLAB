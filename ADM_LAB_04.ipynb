{
  "nbformat": 4,
  "nbformat_minor": 0,
  "metadata": {
    "colab": {
      "provenance": [],
      "authorship_tag": "ABX9TyMZCw+KhyRA//xG/CxICdKN",
      "include_colab_link": true
    },
    "kernelspec": {
      "name": "python3",
      "display_name": "Python 3"
    },
    "language_info": {
      "name": "python"
    }
  },
  "cells": [
    {
      "cell_type": "markdown",
      "metadata": {
        "id": "view-in-github",
        "colab_type": "text"
      },
      "source": [
        "<a href=\"https://colab.research.google.com/github/Saicharanchearla/2303A510I8_ADMLAB/blob/main/ADM_LAB_04.ipynb\" target=\"_parent\"><img src=\"https://colab.research.google.com/assets/colab-badge.svg\" alt=\"Open In Colab\"/></a>"
      ]
    },
    {
      "cell_type": "code",
      "execution_count": 1,
      "metadata": {
        "id": "4s9YEUgQgFCs"
      },
      "outputs": [],
      "source": [
        "import pandas as pd\n",
        "from sklearn.preprocessing import LabelEncoder\n",
        "\n",
        "data = {\n",
        "'Name': ['Alice', 'Bob', 'Charlie', 'David', 'Eve'],\n",
        "'Gender': ['Female', 'Male', 'Male', 'Male', 'Female'],\n",
        "'DOB': ['1990-05-15', '1985-10-22', '1992-07-08', '1988-03-25', '1995-12-30'],\n",
        "'City': ['New York', 'Los Angeles', 'Chicago', 'Houston', 'Phoenix'],\n",
        "'Salary': [70000, 80000, 75000, 90000, 65000]\n",
        "}"
      ]
    },
    {
      "cell_type": "code",
      "source": [
        "df = pd.DataFrame(data)"
      ],
      "metadata": {
        "id": "5jth8CSWjWog"
      },
      "execution_count": 2,
      "outputs": []
    },
    {
      "cell_type": "code",
      "source": [
        "df['DOB'] = pd.to_datetime(df['DOB'])"
      ],
      "metadata": {
        "id": "9Ej6TRmFji5U"
      },
      "execution_count": 3,
      "outputs": []
    },
    {
      "cell_type": "code",
      "source": [
        "df['Age'] = pd.Timestamp.now().year - df['DOB'].dt.year"
      ],
      "metadata": {
        "id": "iwV78LyajnTG"
      },
      "execution_count": 4,
      "outputs": []
    },
    {
      "cell_type": "code",
      "source": [
        "label_encoder = LabelEncoder()"
      ],
      "metadata": {
        "id": "a-o5PZ2_jqd1"
      },
      "execution_count": 5,
      "outputs": []
    },
    {
      "cell_type": "code",
      "source": [
        "df['Gender_Label'] = label_encoder.fit_transform(df['Gender'])"
      ],
      "metadata": {
        "id": "Kn7S-YqHjqZW"
      },
      "execution_count": 6,
      "outputs": []
    },
    {
      "cell_type": "code",
      "source": [
        "df = pd.get_dummies(df, columns=['City'])"
      ],
      "metadata": {
        "id": "Xh-17UDmjzB6"
      },
      "execution_count": 7,
      "outputs": []
    },
    {
      "cell_type": "code",
      "source": [
        "grouped_df = df.groupby('Gender')['Salary'].mean().reset_index()"
      ],
      "metadata": {
        "id": "9MvaWVzZj2xc"
      },
      "execution_count": 8,
      "outputs": []
    },
    {
      "cell_type": "code",
      "source": [
        "print(\"Average Salary by Gender:\")"
      ],
      "metadata": {
        "colab": {
          "base_uri": "https://localhost:8080/"
        },
        "id": "EMcb5uT3j7BV",
        "outputId": "85e40aaa-b72f-48bc-ce80-fa8f16efac37"
      },
      "execution_count": 9,
      "outputs": [
        {
          "output_type": "stream",
          "name": "stdout",
          "text": [
            "Average Salary by Gender:\n"
          ]
        }
      ]
    },
    {
      "cell_type": "code",
      "source": [
        "print(grouped_df)"
      ],
      "metadata": {
        "colab": {
          "base_uri": "https://localhost:8080/"
        },
        "id": "YxsRFW-xj_Eb",
        "outputId": "e20a06e1-d09d-4a5a-c488-9a8512d9e723"
      },
      "execution_count": 10,
      "outputs": [
        {
          "output_type": "stream",
          "name": "stdout",
          "text": [
            "   Gender        Salary\n",
            "0  Female  67500.000000\n",
            "1    Male  81666.666667\n"
          ]
        }
      ]
    },
    {
      "cell_type": "code",
      "source": [
        "pivot_df = df.pivot_table(values='Salary', index='Gender', columns='Age', aggfunc='mean', fill_value=0)"
      ],
      "metadata": {
        "id": "fTfRcDyvkC_w"
      },
      "execution_count": 11,
      "outputs": []
    },
    {
      "cell_type": "code",
      "source": [
        "print(\"\\nPivot Table (Salary by Gender and Age):\")"
      ],
      "metadata": {
        "colab": {
          "base_uri": "https://localhost:8080/"
        },
        "id": "ZZ7MUjQbkH2c",
        "outputId": "0859e9bc-1977-4d59-e331-5a5e7593d361"
      },
      "execution_count": 12,
      "outputs": [
        {
          "output_type": "stream",
          "name": "stdout",
          "text": [
            "\n",
            "Pivot Table (Salary by Gender and Age):\n"
          ]
        }
      ]
    },
    {
      "cell_type": "code",
      "source": [
        "print(pivot_df)"
      ],
      "metadata": {
        "colab": {
          "base_uri": "https://localhost:8080/"
        },
        "id": "QDYbK7cDkMcb",
        "outputId": "d661958c-fcf7-4511-f20f-34ced5ae1b15"
      },
      "execution_count": 13,
      "outputs": [
        {
          "output_type": "stream",
          "name": "stdout",
          "text": [
            "Age          30       33       35       37       40\n",
            "Gender                                             \n",
            "Female  65000.0      0.0  70000.0      0.0      0.0\n",
            "Male        0.0  75000.0      0.0  90000.0  80000.0\n"
          ]
        }
      ]
    },
    {
      "cell_type": "code",
      "source": [
        "print(\"\\nTransformed DataFrame:\")\n",
        "print(df)"
      ],
      "metadata": {
        "colab": {
          "base_uri": "https://localhost:8080/"
        },
        "id": "yf85lCjdkQOI",
        "outputId": "bba31ecb-26ae-42c2-faa1-8ccca1b39b18"
      },
      "execution_count": 14,
      "outputs": [
        {
          "output_type": "stream",
          "name": "stdout",
          "text": [
            "\n",
            "Transformed DataFrame:\n",
            "      Name  Gender        DOB  Salary  Age  Gender_Label  City_Chicago  \\\n",
            "0    Alice  Female 1990-05-15   70000   35             0         False   \n",
            "1      Bob    Male 1985-10-22   80000   40             1         False   \n",
            "2  Charlie    Male 1992-07-08   75000   33             1          True   \n",
            "3    David    Male 1988-03-25   90000   37             1         False   \n",
            "4      Eve  Female 1995-12-30   65000   30             0         False   \n",
            "\n",
            "   City_Houston  City_Los Angeles  City_New York  City_Phoenix  \n",
            "0         False             False           True         False  \n",
            "1         False              True          False         False  \n",
            "2         False             False          False         False  \n",
            "3          True             False          False         False  \n",
            "4         False             False          False          True  \n"
          ]
        }
      ]
    }
  ]
}
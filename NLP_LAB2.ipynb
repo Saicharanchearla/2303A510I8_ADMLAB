{
  "nbformat": 4,
  "nbformat_minor": 0,
  "metadata": {
    "colab": {
      "provenance": [],
      "authorship_tag": "ABX9TyNwBvJ/PfVYwft5Uqn7nbTU",
      "include_colab_link": true
    },
    "kernelspec": {
      "name": "python3",
      "display_name": "Python 3"
    },
    "language_info": {
      "name": "python"
    }
  },
  "cells": [
    {
      "cell_type": "markdown",
      "metadata": {
        "id": "view-in-github",
        "colab_type": "text"
      },
      "source": [
        "<a href=\"https://colab.research.google.com/github/Saicharanchearla/2303A510I8_ADMLAB/blob/main/NLP_LAB2.ipynb\" target=\"_parent\"><img src=\"https://colab.research.google.com/assets/colab-badge.svg\" alt=\"Open In Colab\"/></a>"
      ]
    },
    {
      "cell_type": "code",
      "execution_count": 1,
      "metadata": {
        "colab": {
          "base_uri": "https://localhost:8080/"
        },
        "id": "XIhmfO9HN52l",
        "outputId": "244ea01c-5f50-44f6-8110-48b7a13af722"
      },
      "outputs": [
        {
          "output_type": "stream",
          "name": "stdout",
          "text": [
            "Student Marks (5 students × 3 subjects):\n",
            " [[85 78 92]\n",
            " [76 88 90]\n",
            " [90 94 89]\n",
            " [67 74 70]\n",
            " [88 82 91]]\n"
          ]
        }
      ],
      "source": [
        "import numpy as np\n",
        "\n",
        "marks = np.array([\n",
        "    [85, 78, 92],\n",
        "    [76, 88, 90],\n",
        "    [90, 94, 89],\n",
        "    [67, 74, 70],\n",
        "    [88, 82, 91]\n",
        "])\n",
        "\n",
        "print(\"Student Marks (5 students × 3 subjects):\\n\", marks)\n"
      ]
    },
    {
      "cell_type": "code",
      "source": [
        "avg_per_student = np.mean(marks, axis=1)\n",
        "print(\"\\nAverage marks per student:\\n\", avg_per_student)\n",
        "\n",
        "min_per_student = np.min(marks, axis=1)\n",
        "print(\"\\nMinimum marks per student:\\n\", min_per_student)\n",
        "\n",
        "max_per_student = np.max(marks, axis=1)\n",
        "print(\"\\nMaximum marks per student:\\n\", max_per_student)\n"
      ],
      "metadata": {
        "colab": {
          "base_uri": "https://localhost:8080/"
        },
        "id": "ZoZsbbOZQG7t",
        "outputId": "116e1b39-10d7-4a23-d049-3210dda1a65a"
      },
      "execution_count": 2,
      "outputs": [
        {
          "output_type": "stream",
          "name": "stdout",
          "text": [
            "\n",
            "Average marks per student:\n",
            " [85.         84.66666667 91.         70.33333333 87.        ]\n",
            "\n",
            "Minimum marks per student:\n",
            " [78 76 89 67 82]\n",
            "\n",
            "Maximum marks per student:\n",
            " [92 90 94 74 91]\n"
          ]
        }
      ]
    },
    {
      "cell_type": "code",
      "source": [
        "selected_students = marks[[1, 3]]\n",
        "print(\"\\nMarks of Student 2 and Student 4:\\n\", selected_students)\n"
      ],
      "metadata": {
        "colab": {
          "base_uri": "https://localhost:8080/"
        },
        "id": "pZ41dFmBQKeS",
        "outputId": "f59fe305-d141-4739-f506-45264e29c0ce"
      },
      "execution_count": 3,
      "outputs": [
        {
          "output_type": "stream",
          "name": "stdout",
          "text": [
            "\n",
            "Marks of Student 2 and Student 4:\n",
            " [[76 88 90]\n",
            " [67 74 70]]\n"
          ]
        }
      ]
    },
    {
      "cell_type": "code",
      "source": [
        "high_achievers = avg_per_student > 80\n",
        "print(\"\\nStudents with average marks > 80:\\n\", high_achievers)\n",
        "\n",
        "print(\"\\nMarks of students with average > 80:\\n\", marks[high_achievers])\n"
      ],
      "metadata": {
        "colab": {
          "base_uri": "https://localhost:8080/"
        },
        "id": "HTysi5ycQM7y",
        "outputId": "08ba9d53-2c2f-40be-9989-1cacf470d4c0"
      },
      "execution_count": 4,
      "outputs": [
        {
          "output_type": "stream",
          "name": "stdout",
          "text": [
            "\n",
            "Students with average marks > 80:\n",
            " [ True  True  True False  True]\n",
            "\n",
            "Marks of students with average > 80:\n",
            " [[85 78 92]\n",
            " [76 88 90]\n",
            " [90 94 89]\n",
            " [88 82 91]]\n"
          ]
        }
      ]
    },
    {
      "cell_type": "code",
      "source": [
        "subject_wise = marks.T\n",
        "print(\"\\nSubject-wise marks (Subjects × Students):\\n\", subject_wise)\n",
        "\n",
        "avg_subject = np.mean(subject_wise, axis=1)\n",
        "print(\"\\nAverage marks per subject:\\n\", avg_subject)\n"
      ],
      "metadata": {
        "colab": {
          "base_uri": "https://localhost:8080/"
        },
        "id": "d6Redrr8QPbd",
        "outputId": "b218332f-326e-4883-8856-4c9220d0bfcb"
      },
      "execution_count": 5,
      "outputs": [
        {
          "output_type": "stream",
          "name": "stdout",
          "text": [
            "\n",
            "Subject-wise marks (Subjects × Students):\n",
            " [[85 76 90 67 88]\n",
            " [78 88 94 74 82]\n",
            " [92 90 89 70 91]]\n",
            "\n",
            "Average marks per subject:\n",
            " [81.2 83.2 86.4]\n"
          ]
        }
      ]
    },
    {
      "cell_type": "code",
      "source": [
        "print(\"\\n--- Analysis ---\")\n",
        "print(\"• Student 3 has the highest average and excels in all subjects.\")\n",
        "print(\"• Students 1, 3, and 5 scored above 80 on average – strong performers.\")\n",
        "print(\"• Math and English have higher overall averages than Science.\")\n",
        "print(\"• Student 4 has the lowest scores, indicating need for improvement.\")\n"
      ],
      "metadata": {
        "colab": {
          "base_uri": "https://localhost:8080/"
        },
        "id": "JU8s8tW4QTzr",
        "outputId": "609358c6-57f6-40c2-e7b8-7631dcb5ff52"
      },
      "execution_count": 6,
      "outputs": [
        {
          "output_type": "stream",
          "name": "stdout",
          "text": [
            "\n",
            "--- Analysis ---\n",
            "• Student 3 has the highest average and excels in all subjects.\n",
            "• Students 1, 3, and 5 scored above 80 on average – strong performers.\n",
            "• Math and English have higher overall averages than Science.\n",
            "• Student 4 has the lowest scores, indicating need for improvement.\n"
          ]
        }
      ]
    }
  ]
}